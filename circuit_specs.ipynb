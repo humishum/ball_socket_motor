{
 "cells": [
  {
   "cell_type": "markdown",
   "metadata": {},
   "source": [
    "# Electrical Component Spec Sheet \n",
    "Quick notebook with helper functions to get high level electrical specs"
   ]
  },
  {
   "cell_type": "code",
   "execution_count": null,
   "metadata": {},
   "outputs": [],
   "source": [
    "import numpy as np \n",
    "import matplotlib.pyplot as plt "
   ]
  },
  {
   "cell_type": "code",
   "execution_count": null,
   "metadata": {},
   "outputs": [],
   "source": [
    "\n",
    "mu_0 = 4 * np.pi * 1e-7  # Permeability of free space\n",
    "def calculate_inductance(N_turns, coil_area_m2, coil_length_m, mu_r=1):\n",
    "    \"\"\"\n",
    "    L = (μ₀ * μ_r * N² * A) / l\n",
    "    \"\"\"\n",
    "    return (mu_0 * mu_r * N_turns**2 * coil_area_m2) / coil_length_m  # henries\n",
    "\n",
    "def estimate_coil_resistance(N_turns, wire_diameter_m, resistivity_ohm_m=1.68e-8, wire_length_per_turn_m=None):\n",
    "    \"\"\"\n",
    "    estimate resistance via R = ρ * L / A\n",
    "    \"\"\"\n",
    "    if wire_length_per_turn_m is None:\n",
    "        raise ValueError(\"Need wire_length_per_turn_m if not using specific geometry\")\n",
    "    total_length = N_turns * wire_length_per_turn_m\n",
    "    cross_section_area = np.pi * (wire_diameter_m / 2)**2\n",
    "    return resistivity_ohm_m * total_length / cross_section_area  # Ohms\n",
    "\n",
    "def time_constant(L_henry, R_ohm):\n",
    "    return L_henry / R_ohm  # seconds\n",
    "\n",
    "def max_current(V_supply, R_ohm):\n",
    "    return V_supply / R_ohm  # amps\n",
    "\n",
    "def get_power(I, R):\n",
    "    return I**2 * R  # watts\n",
    "\n",
    "def coil_energy(L, I):\n",
    "    '''calculate energy stored in magnetic field of an inductor'''\n",
    "    return 0.5 * L * I**2  # joules\n"
   ]
  }
 ],
 "metadata": {
  "kernelspec": {
   "display_name": ".venv",
   "language": "python",
   "name": "python3"
  },
  "language_info": {
   "name": "python",
   "version": "3.9.6"
  }
 },
 "nbformat": 4,
 "nbformat_minor": 2
}
